{
  "nbformat": 4,
  "nbformat_minor": 0,
  "metadata": {
    "colab": {
      "provenance": [],
      "authorship_tag": "ABX9TyNH3FAVqwPGghFmKUeUQZFE",
      "include_colab_link": true
    },
    "kernelspec": {
      "name": "python3",
      "display_name": "Python 3"
    },
    "language_info": {
      "name": "python"
    }
  },
  "cells": [
    {
      "cell_type": "markdown",
      "metadata": {
        "id": "view-in-github",
        "colab_type": "text"
      },
      "source": [
        "<a href=\"https://colab.research.google.com/github/pavss/Data_Structures/blob/main/smaller.ipynb\" target=\"_parent\"><img src=\"https://colab.research.google.com/assets/colab-badge.svg\" alt=\"Open In Colab\"/></a>"
      ]
    },
    {
      "cell_type": "code",
      "execution_count": 4,
      "metadata": {
        "colab": {
          "base_uri": "https://localhost:8080/"
        },
        "id": "edDl8zVuNpSF",
        "outputId": "06c2db94-b4ae-4b79-ad7e-f00ea0785a78"
      },
      "outputs": [
        {
          "output_type": "stream",
          "name": "stdout",
          "text": [
            "Insert first number:56\n",
            "Insert second number:87\n",
            "The smaller number is56\n"
          ]
        }
      ],
      "source": [
        "def smaller():\n",
        " n1 = input('Insert first number:')\n",
        " n2 = input('Insert second number:')\n",
        " if n1>n2:\n",
        "  print('The smaller number is {}'.format(n2))\n",
        " elif n1==n2:\n",
        "  print('Both are Equal')\n",
        " else:\n",
        "  print('The smaller number is{}'.format(n1))\n",
        "smaller()"
      ]
    }
  ]
}
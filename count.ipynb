{
  "nbformat": 4,
  "nbformat_minor": 0,
  "metadata": {
    "colab": {
      "name": "countdictionary.ipynb",
      "provenance": [],
      "authorship_tag": "ABX9TyNalFtBZ41yDuCfUGc+U5Dg",
      "include_colab_link": true
    },
    "kernelspec": {
      "name": "python3",
      "display_name": "Python 3"
    },
    "language_info": {
      "name": "python"
    }
  },
  "cells": [
    {
      "cell_type": "markdown",
      "metadata": {
        "id": "view-in-github",
        "colab_type": "text"
      },
      "source": [
        "<a href=\"https://colab.research.google.com/github/pavss/Data_Structures/blob/main/count.ipynb\" target=\"_parent\"><img src=\"https://colab.research.google.com/assets/colab-badge.svg\" alt=\"Open In Colab\"/></a>"
      ]
    },
    {
      "cell_type": "code",
      "source": [
        "string =input(\"sentence: \")\n",
        "words = []\n",
        "words = string.split()\n",
        "mydict = {}\n",
        "for key in words:\n",
        "  mydict[key] = words.count(key)\n",
        "  print(\"words count : \", mydict)"
      ],
      "metadata": {
        "id": "_q_0gJjW7308",
        "outputId": "f22dc25a-e199-4a57-8739-6e9323383cc0",
        "colab": {
          "base_uri": "https://localhost:8080/"
        }
      },
      "execution_count": 1,
      "outputs": [
        {
          "output_type": "stream",
          "name": "stdout",
          "text": [
            "sentence: Hello Everyone, how are you\n",
            "words count :  {'Hello': 1}\n",
            "words count :  {'Hello': 1, 'Everyone,': 1}\n",
            "words count :  {'Hello': 1, 'Everyone,': 1, 'how': 1}\n",
            "words count :  {'Hello': 1, 'Everyone,': 1, 'how': 1, 'are': 1}\n",
            "words count :  {'Hello': 1, 'Everyone,': 1, 'how': 1, 'are': 1, 'you': 1}\n"
          ]
        }
      ]
    }
  ]
}
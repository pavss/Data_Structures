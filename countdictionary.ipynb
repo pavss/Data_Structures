{
  "nbformat": 4,
  "nbformat_minor": 0,
  "metadata": {
    "colab": {
      "name": "countdictionary.ipynb",
      "provenance": [],
      "authorship_tag": "ABX9TyNalFtBZ41yDuCfUGc+U5Dg",
      "include_colab_link": true
    },
    "kernelspec": {
      "name": "python3",
      "display_name": "Python 3"
    },
    "language_info": {
      "name": "python"
    }
  },
  "cells": [
    {
      "cell_type": "markdown",
      "metadata": {
        "id": "view-in-github",
        "colab_type": "text"
      },
      "source": [
        "<a href=\"https://colab.research.google.com/github/pavss/Data_Structures/blob/main/countdictionary.ipynb\" target=\"_parent\"><img src=\"https://colab.research.google.com/assets/colab-badge.svg\" alt=\"Open In Colab\"/></a>"
      ]
    },
    {
      "cell_type": "code",
      "source": [
        "string =input(\"sentence: \")\n",
        "words = []\n",
        "words = string.split()\n",
        "mydict = {}\n",
        "for key in words:\n",
        "  mydict[key] = words.count(key)\n",
        "  print(\"words count : \", mydict)"
      ],
      "metadata": {
        "id": "_q_0gJjW7308"
      },
      "execution_count": null,
      "outputs": []
    }
  ]
}
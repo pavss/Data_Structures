{
  "nbformat": 4,
  "nbformat_minor": 0,
  "metadata": {
    "colab": {
      "name": "Untitled8.ipynb",
      "provenance": [],
      "authorship_tag": "ABX9TyMsj8CODYXgL/7B9NMB+7Pj",
      "include_colab_link": true
    },
    "kernelspec": {
      "name": "python3",
      "display_name": "Python 3"
    },
    "language_info": {
      "name": "python"
    }
  },
  "cells": [
    {
      "cell_type": "markdown",
      "metadata": {
        "id": "view-in-github",
        "colab_type": "text"
      },
      "source": [
        "<a href=\"https://colab.research.google.com/github/pavss/Data_Structures/blob/main/primenumber.ipynb\" target=\"_parent\"><img src=\"https://colab.research.google.com/assets/colab-badge.svg\" alt=\"Open In Colab\"/></a>"
      ]
    },
    {
      "cell_type": "code",
      "execution_count": 4,
      "metadata": {
        "colab": {
          "base_uri": "https://localhost:8080/"
        },
        "id": "vvxDeVBK2Wz5",
        "outputId": "8eefcb6a-01ec-4931-9203-cf37f5b94168"
      },
      "outputs": [
        {
          "output_type": "stream",
          "name": "stdout",
          "text": [
            "Enter a number13\n",
            "13 is a prime number\n",
            "13 is a prime number\n",
            "13 is a prime number\n",
            "13 is a prime number\n",
            "13 is a prime number\n",
            "13 is not a prime number\n"
          ]
        }
      ],
      "source": [
        "num=int(input(\"Enter a number\"))\n",
        "if num > 1:\n",
        "  for i in range(2, int(num/2)+1):\n",
        "    if(num % i) == 0:\n",
        "      print(num, \"is not a prime number\")\n",
        "      break\n",
        "    else:\n",
        "        print(num, \"is a prime number\")\n",
        "  else:\n",
        "       print(num, \"is not a prime number\")"
      ]
    }
  ]
}
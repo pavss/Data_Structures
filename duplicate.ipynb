{
  "nbformat": 4,
  "nbformat_minor": 0,
  "metadata": {
    "colab": {
      "name": "duplicate",
      "provenance": [],
      "authorship_tag": "ABX9TyM1/ucNLgoj0DPf6GCJoUg3",
      "include_colab_link": true
    },
    "kernelspec": {
      "name": "python3",
      "display_name": "Python 3"
    },
    "language_info": {
      "name": "python"
    }
  },
  "cells": [
    {
      "cell_type": "markdown",
      "metadata": {
        "id": "view-in-github",
        "colab_type": "text"
      },
      "source": [
        "<a href=\"https://colab.research.google.com/github/pavss/Data_Structures/blob/main/duplicate.ipynb\" target=\"_parent\"><img src=\"https://colab.research.google.com/assets/colab-badge.svg\" alt=\"Open In Colab\"/></a>"
      ]
    },
    {
      "cell_type": "code",
      "execution_count": 12,
      "metadata": {
        "id": "x9QbOQDlrjP7"
      },
      "outputs": [],
      "source": [
        "def no_duplicate():\n",
        "  list1 = [x for x in input(\"Enter numbers seperated by comma:\").split(',')]\n",
        "  list2 = set(list1)\n",
        "  print([int(i) for i in list2])"
      ]
    },
    {
      "cell_type": "code",
      "source": [
        "no_duplicate()"
      ],
      "metadata": {
        "colab": {
          "base_uri": "https://localhost:8080/"
        },
        "id": "ujn1-_8WwSv3",
        "outputId": "612e8ec2-2fd9-4421-9fca-6e4b4afc3131"
      },
      "execution_count": 13,
      "outputs": [
        {
          "output_type": "stream",
          "name": "stdout",
          "text": [
            "Enter numbers seperated by comma:4,4,5,6,8,8\n",
            "[8, 4, 5, 6]\n"
          ]
        }
      ]
    }
  ]
}